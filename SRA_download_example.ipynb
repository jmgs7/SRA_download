{
 "cells": [
  {
   "cell_type": "markdown",
   "metadata": {},
   "source": [
    "# SRA_download API test\n",
    "\n",
    "Because sometimes is tedious to download SRA data, and specially to download only filtered samples based on their metadata information (treatment, sample group, patient sex, age...).\n",
    "\n",
    "For that purpose, we have created a library containing some useful functions that act as wrappers for other packages such as GEOparse, pysradb, etc.\n",
    "\n",
    "From a single GEO accesion, we can easily retrieve the list of samples and their metadata, and then download the fastq files for each sample.\n",
    "\n",
    "The user can also optionally use their own filtering script in order to download only the samples that meet their requirements based on GEO metadata information. \n",
    "\n",
    "It would be nice to automate this process, but because SOFT datasets don't follow any standard, it requires the user's exploration and coding of their filtering scripts in order to download only the samples that meet their requirements.\n",
    "\n",
    "We provide some useful functions for this purpose in the [SRA_download_lib.py](SRA_download_lib.py) library, but the rest will be up to what your dataset requires.\n",
    "\n"
   ]
  },
  {
   "cell_type": "code",
   "execution_count": null,
   "metadata": {},
   "outputs": [],
   "source": [
    "from SRA_download_lib import *"
   ]
  },
  {
   "cell_type": "code",
   "execution_count": null,
   "metadata": {},
   "outputs": [],
   "source": [
    "# Download metadata from a GEO dataset by parsing the SOFT matrix using GEOparse.\n",
    "gse = get_GEO_info(\"GSE140069\")"
   ]
  },
  {
   "cell_type": "code",
   "execution_count": null,
   "metadata": {},
   "outputs": [],
   "source": [
    "# Explore sample data.\n",
    "show_GPL_info(gse)"
   ]
  },
  {
   "cell_type": "code",
   "execution_count": null,
   "metadata": {},
   "outputs": [],
   "source": [
    "# Explore sample data\n",
    "show_GSM_info(gse)"
   ]
  },
  {
   "cell_type": "markdown",
   "metadata": {},
   "source": [
    "For downloading only the desired fastq files, specific filters needs to be scripted. It is also possible to use the SRA Run selector: https://trace.ncbi.nlm.nih.gov/Traces/study/"
   ]
  },
  {
   "cell_type": "code",
   "execution_count": null,
   "metadata": {},
   "outputs": [],
   "source": [
    "\n",
    "##### FILTERING STEP #####\n",
    "\n",
    "# This is the part when the users would have to create their own filter scripts.\n",
    "# Because in many cases metadata slots are stored as an \"dict-like lists\" ([\"key_1 : value:1\", ..., \"key_N : value_N\"]),\n",
    "# we have created useful functions such as list_to_dict that automatically converts the list into a dictionary.\n",
    "\n",
    "split = \": \" # Set split character of the \"dict-like list\"\n",
    "for sample_name in gse.gsms.keys():\n",
    "    dict = list_to_dict(gse.gsms[sample_name].metadata[\"characteristics_ch1\"], split)\n",
    "    gse.gsms[sample_name].metadata[\"characteristics_ch1\"] = dict\n",
    "\n",
    "# We want to obtain the list of samples that we want to download.\n",
    "# In this case, we want all samples labeled as \"female\" and \"control\".\n",
    "id_list = []\n",
    "for sample_name, sample_info in gse.gsms.items():\n",
    "    sex = sample_info.metadata[\"characteristics_ch1\"][\"Sex\"].lower()\n",
    "    group = sample_info.metadata[\"characteristics_ch1\"][\"disease status\"].lower()\n",
    "    if sex == \"female\" and group == \"control\":\n",
    "        # gsm_to_srr is our backend to convert GSM to SRR, which is what is recognized by most SRA downloaders.\n",
    "        id_list.append(gsm_to_srr(sample_name)) "
   ]
  },
  {
   "cell_type": "code",
   "execution_count": null,
   "metadata": {},
   "outputs": [],
   "source": [
    "# Download fastq files for the list of samples in parallel using kingfisher.\n",
    "download_folder = \"~/Data/miRNA/miRNA_Blanca_Rueda_20231221_140148/Fastq/test/\"\n",
    "\n",
    "# This function is the parallelized version of download_fastq, which severely reduces download time.\n",
    "download_fastq_parallel(sample_list= id_list, out_dir = download_folder)"
   ]
  },
  {
   "cell_type": "markdown",
   "metadata": {},
   "source": [
    "You can also input the sample ids from a file (for example, the output from SRA Run selector):"
   ]
  },
  {
   "cell_type": "code",
   "execution_count": null,
   "metadata": {},
   "outputs": [],
   "source": [
    "from os import remove as rm\n",
    "\n",
    "with open(\"sample_list.txt\", \"w\") as file:\n",
    "    file.write(\"\\n\".join(id_list))\n",
    "\n",
    "# Download fastq files for the list of samples in parallel using kingfisher.\n",
    "download_folder = \"~/Data/miRNA/miRNA_Blanca_Rueda_20231221_140148/Fastq/test/\"\n",
    "\n",
    "download_fastq_parallel(file= \"sample_list.txt\", out_dir=download_folder)\n",
    "rm(\"sample_list.txt\")"
   ]
  },
  {
   "cell_type": "markdown",
   "metadata": {},
   "source": [
    "For a straight-forward download of the whole dataset, is possible to use traditional functions such as the ones in SRA-toolkit or the ones provided by ENA. Nevertheless, because our approach improves the download time, we provide a method to download the whole dataset in parallel:\n"
   ]
  },
  {
   "cell_type": "code",
   "execution_count": null,
   "metadata": {},
   "outputs": [],
   "source": [
    "download_GEO_dataset(GEO_id = \"GSE140069\", out_dir = \"~/Data/miRNA/miRNA_Blanca_Rueda_20231221_140148/Fastq/test\")"
   ]
  }
 ],
 "metadata": {
  "kernelspec": {
   "display_name": "miRNA",
   "language": "python",
   "name": "python3"
  },
  "language_info": {
   "codemirror_mode": {
    "name": "ipython",
    "version": 3
   },
   "file_extension": ".py",
   "mimetype": "text/x-python",
   "name": "python",
   "nbconvert_exporter": "python",
   "pygments_lexer": "ipython3",
   "version": "3.12.2"
  }
 },
 "nbformat": 4,
 "nbformat_minor": 2
}
